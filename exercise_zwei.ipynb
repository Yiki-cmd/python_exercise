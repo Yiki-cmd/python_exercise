{
 "cells": [
  {
   "cell_type": "markdown",
   "metadata": {},
   "source": [
    "Challenge 1: Define a function that takes a list of numbers and returns a new list containing only the even numbers.\n",
    "The function should use list comprehension."
   ]
  },
  {
   "cell_type": "code",
   "execution_count": 39,
   "metadata": {},
   "outputs": [
    {
     "data": {
      "text/plain": [
       "[2, 4, 5, 6, 7, 9]"
      ]
     },
     "execution_count": 39,
     "metadata": {},
     "output_type": "execute_result"
    }
   ],
   "source": [
    "list_of_numbers=[2,4,5,6,7,9]\n",
    "def even_numbers(numbers):\n",
    "    result=[]   \n",
    "    for x in numbers:\n",
    "        if x%2==0:\n",
    "           \n",
    "            result.append(x)\n",
    "            return(numbers)\n",
    "            display(list(result))\n",
    "even_numbers(list_of_numbers)\n"
   ]
  },
  {
   "cell_type": "markdown",
   "metadata": {},
   "source": [
    "Challenge 2: Define a function that takes a list of strings and returns a new list with the strings that have more than 5 characters.\n",
    "Use list comprehension for filtering."
   ]
  },
  {
   "cell_type": "code",
   "execution_count": 35,
   "metadata": {},
   "outputs": [
    {
     "data": {
      "text/plain": [
       "['computer', 'tablet', 'bus', 'mobile']"
      ]
     },
     "execution_count": 35,
     "metadata": {},
     "output_type": "execute_result"
    }
   ],
   "source": [
    "words=[\"computer\",\"tablet\",\"bus\",\"mobile\"]\n",
    "def string_5(letters):\n",
    "    result=[]  \n",
    "    for x in letters:\n",
    "        if len(x)>5:\n",
    "            return(letters)\n",
    "            result.append(x)\n",
    "            display(list(result))\n",
    "string_5(words)\n"
   ]
  },
  {
   "cell_type": "markdown",
   "metadata": {},
   "source": [
    "Challenge 3: Write a function that takes a list of integers and returns a list of their squares.\n",
    "#Use list comprehension to achieve this."
   ]
  },
  {
   "cell_type": "code",
   "execution_count": 34,
   "metadata": {},
   "outputs": [
    {
     "data": {
      "text/plain": [
       "[2, 4, 5, 6, 6, 7]"
      ]
     },
     "execution_count": 34,
     "metadata": {},
     "output_type": "execute_result"
    }
   ],
   "source": [
    "list_of_numbers=[2,4,5,6,6,7]\n",
    "def square_of_numbers(zahl):\n",
    "    result=[]\n",
    "    for x in zahl:\n",
    "        x=x**2\n",
    "        result.append(x)\n",
    "        return(zahl)\n",
    "        display(result)\n",
    "       \n",
    "square_of_numbers(list_of_numbers)\n",
    "        \n",
    " "
   ]
  },
  {
   "cell_type": "markdown",
   "metadata": {},
   "source": [
    "Challenge 4: Write a function that accepts two lists of the same length and returns a list of tuples,\n",
    "where each tuple contains elements from the two lists at the corresponding positions. Use list comprehension."
   ]
  },
  {
   "cell_type": "code",
   "execution_count": null,
   "metadata": {},
   "outputs": [],
   "source": []
  }
 ],
 "metadata": {
  "kernelspec": {
   "display_name": "Python 3",
   "language": "python",
   "name": "python3"
  },
  "language_info": {
   "codemirror_mode": {
    "name": "ipython",
    "version": 3
   },
   "file_extension": ".py",
   "mimetype": "text/x-python",
   "name": "python",
   "nbconvert_exporter": "python",
   "pygments_lexer": "ipython3",
   "version": "3.13.0"
  }
 },
 "nbformat": 4,
 "nbformat_minor": 2
}
